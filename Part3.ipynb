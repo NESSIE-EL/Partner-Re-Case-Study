{
 "cells": [
  {
   "cell_type": "code",
   "execution_count": 4,
   "id": "7c2ce269-b763-479e-bf07-1ffeedc39a62",
   "metadata": {
    "scrolled": true
   },
   "outputs": [
    {
     "name": "stderr",
     "output_type": "stream",
     "text": [
      "\n",
      "Attachement du package : 'DT'\n",
      "\n",
      "\n",
      "Les objets suivants sont masqués depuis 'package:shiny':\n",
      "\n",
      "    dataTableOutput, renderDataTable\n",
      "\n",
      "\n"
     ]
    }
   ],
   "source": [
    "library(shiny)\n",
    "library(dplyr)\n",
    "library(ggplot2)\n",
    "library(DT)"
   ]
  },
  {
   "cell_type": "code",
   "execution_count": 5,
   "id": "ecf53b7b-bc04-4654-9c2c-2957d91d8f30",
   "metadata": {},
   "outputs": [],
   "source": [
    "# Define server\n",
    "server <- function(input, output) {\n",
    "# Réactif pour lire le fichier CSV téléchargé par l'utilisateur\n",
    "  data <- reactive({\n",
    "    req(input$file1) # Assure que le fichier est fourni avant de continuer\n",
    "    read.csv(input$file1$datapath, header = input$header)  # Lire le fichier CSV avec ou sans en-têtes selon l'input\n",
    "  })\n",
    " # Afficher le contenu du DataFrame sous forme de table dans l'interface utilisateur\n",
    "  output$contents <- renderDT({\n",
    "    data() # Rendre le DataFrame sous forme de table dynamique\n",
    "  })\n",
    "  # Afficher un résumé des données selon le type sélectionné par l'utilisateur\n",
    "  output$summary <- renderPrint({\n",
    "    req(input$generate_summary) # Assure que le bouton pour générer le résumé a été cliqué\n",
    "\n",
    "    df <- data() # Obtenir le DataFrame réactif\n",
    "# Vérifier le type de résumé sélectionné par l'utilisateur\n",
    "    if (input$summary_type == \"Basic Summary\") {\n",
    "      summary(df) # Afficher un résumé de base des données (moyenne, min, max, etc.)\n",
    "    } else if (input$summary_type == \"Distinct Values\") {\n",
    "      sapply(df, function(x) length(unique(x)))  # Compter le nombre de valeurs distinctes dans chaque colonne\n",
    "    }\n",
    "  })\n",
    "  # Afficher un histogramme de la colonne 'SAR' si elle existe\n",
    "  output$distPlot <- renderPlot({\n",
    "    req(data())  # Assure que le DataFrame est disponible avant de créer le graphique\n",
    "\n",
    "    df <- data() # Obtenir le DataFrame réactif\n",
    "# Vérifier si la colonne 'SAR' existe dans le DataFrame\n",
    "    if (\"SAR\" %in% colnames(df)) {\n",
    "      ggplot(df, aes(x = SAR)) + # Créer un histogramme pour la colonne 'SAR'\n",
    "        geom_histogram(binwidth = 10000, fill = \"green\", color = \"black\") + # Définir les paramètres du graphique\n",
    "        labs(title = \"Distribution of SAR\", x = \"SAR\", y = \"Count\") # Ajouter des labels\n",
    "    } else {\n",
    "      plot.new() # Créer une nouvelle zone de graphique vide\n",
    "      text(0.5, 0.5, \"SAR column not found in the data\", cex = 1.5) # Afficher un message d'erreur si la colonne 'SAR' n'est pas trouvée\n",
    "    }\n",
    "  })\n",
    "}"
   ]
  },
  {
   "cell_type": "code",
   "execution_count": 6,
   "id": "b40c4306-21de-4337-acbe-b2875d57a40e",
   "metadata": {},
   "outputs": [],
   "source": [
    "# Define UI\n",
    "ui <- fluidPage(\n",
    "# Titre de l'application affiché en haut de la page\n",
    "  titlePanel(\"Data Ingestion and Summary\"),\n",
    "# Mise en page avec une barre latérale pour les contrôles et un panneau principal pour les sorties\n",
    "  sidebarLayout(\n",
    "    # Panneau latéral pour les entrées de l'utilisateur\n",
    "    sidebarPanel(\n",
    "    # Input pour choisir un fichier CSV à télécharger\n",
    "      fileInput(\"file1\", \"Choose CSV File\", accept = \".csv\"),\n",
    "    # Case à cocher pour indiquer si le fichier CSV contient des en-têtes\n",
    "      checkboxInput(\"header\", \"Header\", TRUE),\n",
    "    # Bouton pour générer le résumé des données\n",
    "      actionButton(\"generate_summary\", \"Generate Summary\"),\n",
    "    # Menu déroulant pour sélectionner le type de résumé\n",
    "      selectInput(\"summary_type\", \"Summary Type\", choices = c(\"Basic Summary\", \"Distinct Values\"))\n",
    "    ),\n",
    "     # Panneau principal pour afficher les résultats\n",
    "    mainPanel(\n",
    "    # Affichage du contenu du fichier CSV sous forme de table interactive\n",
    "      DTOutput(\"contents\"),\n",
    "    # Affichage du résumé des données (texte brut)\n",
    "      verbatimTextOutput(\"summary\"),\n",
    "    # Affichage d'un graphique (histogramme)\n",
    "      plotOutput(\"distPlot\")\n",
    "    )\n",
    "  )\n",
    ")\n"
   ]
  },
  {
   "cell_type": "code",
   "execution_count": null,
   "id": "95c41e3d-dbe5-42df-8c19-96c3591084e8",
   "metadata": {},
   "outputs": [
    {
     "name": "stderr",
     "output_type": "stream",
     "text": [
      "\n",
      "Listening on http://127.0.0.1:3154\n",
      "\n"
     ]
    }
   ],
   "source": [
    "# Run the application\n",
    "shinyApp(ui = ui, server = server)"
   ]
  },
  {
   "cell_type": "code",
   "execution_count": null,
   "id": "8531e49d-b3e3-4da2-86c6-84cb50358232",
   "metadata": {},
   "outputs": [],
   "source": []
  }
 ],
 "metadata": {
  "kernelspec": {
   "display_name": "R",
   "language": "R",
   "name": "ir"
  },
  "language_info": {
   "codemirror_mode": "r",
   "file_extension": ".r",
   "mimetype": "text/x-r-source",
   "name": "R",
   "pygments_lexer": "r",
   "version": "4.4.1"
  }
 },
 "nbformat": 4,
 "nbformat_minor": 5
}
