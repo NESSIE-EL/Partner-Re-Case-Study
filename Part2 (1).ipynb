{
 "cells": [
  {
   "cell_type": "code",
   "execution_count": 2,
   "id": "f6b1666b-56ea-4f56-80c6-cf28bb904af2",
   "metadata": {},
   "outputs": [
    {
     "name": "stderr",
     "output_type": "stream",
     "text": [
      "Warning message:\n",
      "\"le package 'tidyverse' est en cours d'utilisation et ne sera pas installé\"\n",
      "\u001b[1mRows: \u001b[22m\u001b[34m19547\u001b[39m \u001b[1mColumns: \u001b[22m\u001b[34m3\u001b[39m\n",
      "\u001b[36m──\u001b[39m \u001b[1mColumn specification\u001b[22m \u001b[36m─────────────────────────────────────────\u001b[39m\n",
      "\u001b[1mDelimiter:\u001b[22m \",\"\n",
      "\u001b[31mchr\u001b[39m (1): Gender\n",
      "\u001b[32mdbl\u001b[39m (2): SAR, FinalRate\n",
      "\n",
      "\u001b[36mℹ\u001b[39m Use `spec()` to retrieve the full column specification for this data.\n",
      "\u001b[36mℹ\u001b[39m Specify the column types or set `show_col_types = FALSE` to quiet this message.\n"
     ]
    }
   ],
   "source": [
    "# Charger les packages nécessaires\n",
    "install.packages(\"tidyverse\")\n",
    "library(tidyverse)  # Contient dplyr, tidyr, ggplot2, etc.\n",
    "library(readr)\n",
    "# Charger les données\n",
    "data_ <- read_csv(\"portfolio_data_clean_ness.csv\")"
   ]
  },
  {
   "cell_type": "markdown",
   "id": "a9a2d8bb-8743-4d09-9795-d90d2fc13b89",
   "metadata": {},
   "source": [
    "## Project death proba"
   ]
  },
  {
   "cell_type": "code",
   "execution_count": 9,
   "id": "14cfd531-03b4-4e6e-abe7-1ab48d414c00",
   "metadata": {},
   "outputs": [
    {
     "name": "stdout",
     "output_type": "stream",
     "text": [
      "Total claims amount: 3324414 \n",
      "Mean claims amount: 332.4414 \n",
      "Standard deviation of claims amount: 268.3129 \n",
      "Premium rate to cover the portfolio over the next year: 869.0672 \n"
     ]
    }
   ],
   "source": [
    "#To project the deaths arising from the new 10’000 policies portfolio \n",
    "# Fonction pour générer un nouveau dataframe avec 10 000 polices\n",
    "generate_new_portfolio <- function(data_, n_policies) {\n",
    "  # Générer des valeurs aléatoires pour Gender, SAR, et FinalRate\n",
    "  new_data <- tibble(\n",
    "    Gender = sample(data_$Gender, n_policies, replace = TRUE),\n",
    "    SAR = sample(data_$SAR, n_policies, replace = TRUE),\n",
    "    FinalRate = sample(data_$FinalRate, n_policies, replace = TRUE)\n",
    "  )\n",
    "  return(new_data)\n",
    "}\n",
    "\n",
    "# Générer un nouveau dataframe avec 10 000 polices\n",
    "n_policies <- 10000\n",
    "new_portfolio <- generate_new_portfolio(data_, n_policies)\n",
    "\n",
    "# Calculer le montant total des réclamations\n",
    "total_claims <- sum(new_portfolio$SAR * new_portfolio$FinalRate)\n",
    "\n",
    "# Afficher le montant total des réclamations\n",
    "cat(\"Total claims amount:\", total_claims, \"\\n\")\n",
    "\n",
    "# Calculer la moyenne et l'écart-type des réclamations\n",
    "mean_claims <- mean(new_portfolio$SAR * new_portfolio$FinalRate, na.rm = TRUE)\n",
    "sd_claims <- sd(new_portfolio$SAR * new_portfolio$FinalRate, na.rm = TRUE)\n",
    "\n",
    "cat(\"Mean claims amount:\", mean_claims, \"\\n\")\n",
    "cat(\"Standard deviation of claims amount:\", sd_claims, \"\\n\")\n",
    "\n",
    "# Déterminer le taux de prime\n",
    "premium_rate <- mean_claims + 2 * sd_claims  \n",
    "# Ajouter une marge de sécurité de 2 écarts-types 2 écarts-types à la moyenne est une pratique courante pour s'assurer que le taux de prime couvre la majorité des variations potentielles des réclamations,\n",
    "#minimisant ainsi le risque financier pour l'assureur\n",
    "\n",
    "cat(\"Premium rate to cover the portfolio over the next year:\", premium_rate, \"\\n\")"
   ]
  }
 ],
 "metadata": {
  "kernelspec": {
   "display_name": "R",
   "language": "R",
   "name": "ir"
  },
  "language_info": {
   "codemirror_mode": "r",
   "file_extension": ".r",
   "mimetype": "text/x-r-source",
   "name": "R",
   "pygments_lexer": "r",
   "version": "4.4.1"
  }
 },
 "nbformat": 4,
 "nbformat_minor": 5
}
