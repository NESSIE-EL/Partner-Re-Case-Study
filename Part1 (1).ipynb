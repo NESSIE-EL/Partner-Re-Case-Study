{
 "cells": [
  {
   "cell_type": "code",
   "execution_count": 2,
   "id": "a50658c3-90c4-4f8d-a4d7-06a9a64167fd",
   "metadata": {},
   "outputs": [
    {
     "name": "stderr",
     "output_type": "stream",
     "text": [
      "Installation du package dans 'C:/Users/Nesserine/AppData/Local/R/win-library/4.4'\n",
      "(car 'lib' n'est pas spécifié)\n",
      "\n"
     ]
    },
    {
     "name": "stdout",
     "output_type": "stream",
     "text": [
      "le package 'tidyverse' a été décompressé et les sommes MD5 ont été vérifiées avec succés\n",
      "\n",
      "Les packages binaires téléchargés sont dans\n",
      "\tC:\\Users\\Nesserine\\AppData\\Local\\Temp\\RtmpaeRd9m\\downloaded_packages\n"
     ]
    },
    {
     "name": "stderr",
     "output_type": "stream",
     "text": [
      "── \u001b[1mAttaching core tidyverse packages\u001b[22m ───────── tidyverse 2.0.0 ──\n",
      "\u001b[32m✔\u001b[39m \u001b[34mdplyr    \u001b[39m 1.1.4     \u001b[32m✔\u001b[39m \u001b[34mreadr    \u001b[39m 2.1.5\n",
      "\u001b[32m✔\u001b[39m \u001b[34mforcats  \u001b[39m 1.0.0     \u001b[32m✔\u001b[39m \u001b[34mstringr  \u001b[39m 1.5.1\n",
      "\u001b[32m✔\u001b[39m \u001b[34mggplot2  \u001b[39m 3.5.1     \u001b[32m✔\u001b[39m \u001b[34mtibble   \u001b[39m 3.2.1\n",
      "\u001b[32m✔\u001b[39m \u001b[34mlubridate\u001b[39m 1.9.3     \u001b[32m✔\u001b[39m \u001b[34mtidyr    \u001b[39m 1.3.1\n",
      "\u001b[32m✔\u001b[39m \u001b[34mpurrr    \u001b[39m 1.0.2     \n",
      "── \u001b[1mConflicts\u001b[22m ─────────────────────────── tidyverse_conflicts() ──\n",
      "\u001b[31m✖\u001b[39m \u001b[34mdplyr\u001b[39m::\u001b[32mfilter()\u001b[39m masks \u001b[34mstats\u001b[39m::filter()\n",
      "\u001b[31m✖\u001b[39m \u001b[34mdplyr\u001b[39m::\u001b[32mlag()\u001b[39m    masks \u001b[34mstats\u001b[39m::lag()\n",
      "\u001b[36mℹ\u001b[39m Use the conflicted package (\u001b[3m\u001b[34m<http://conflicted.r-lib.org/>\u001b[39m\u001b[23m) to force all conflicts to become errors\n"
     ]
    }
   ],
   "source": [
    "# Charger les packages nécessaires\n",
    "install.packages(\"tidyverse\")\n",
    "library(tidyverse)  # Contient dplyr, tidyr, ggplot2, etc.\n",
    "library(readr)"
   ]
  },
  {
   "cell_type": "code",
   "execution_count": 3,
   "id": "f19bdb6f-bed4-4026-92c7-c84c41fdff73",
   "metadata": {},
   "outputs": [
    {
     "name": "stderr",
     "output_type": "stream",
     "text": [
      "\u001b[1mRows: \u001b[22m\u001b[34m19554\u001b[39m \u001b[1mColumns: \u001b[22m\u001b[34m3\u001b[39m\n",
      "\u001b[36m──\u001b[39m \u001b[1mColumn specification\u001b[22m \u001b[36m─────────────────────────────────────────\u001b[39m\n",
      "\u001b[1mDelimiter:\u001b[22m \",\"\n",
      "\u001b[31mchr\u001b[39m (1): Gender\n",
      "\u001b[32mdbl\u001b[39m (2): SAR, FinalRate\n",
      "\n",
      "\u001b[36mℹ\u001b[39m Use `spec()` to retrieve the full column specification for this data.\n",
      "\u001b[36mℹ\u001b[39m Specify the column types or set `show_col_types = FALSE` to quiet this message.\n"
     ]
    }
   ],
   "source": [
    "# Importer les données (à remplacer par le chemin du fichier réel)\n",
    "# Assumons que le fichier est un CSV nommé \"portfolio_data.csv\"\n",
    "data <- read_csv(\"portfolio_data.csv\")"
   ]
  },
  {
   "cell_type": "code",
   "execution_count": 4,
   "id": "feec247c-257d-426f-99c4-7139b6b4f1e2",
   "metadata": {},
   "outputs": [
    {
     "data": {
      "text/plain": [
       "    Gender               SAR            FinalRate       \n",
       " Length:19554       Min.   : 110121   Min.   :0.000086  \n",
       " Class :character   1st Qu.: 568401   1st Qu.:0.000196  \n",
       " Mode  :character   Median : 825000   Median :0.000341  \n",
       "                    Mean   : 900263   Mean   :0.000811  \n",
       "                    3rd Qu.:1241900   3rd Qu.:0.000576  \n",
       "                    Max.   :4180000   Max.   :3.500000  \n",
       "                    NA's   :3         NA's   :2         "
      ]
     },
     "metadata": {},
     "output_type": "display_data"
    },
    {
     "name": "stdout",
     "output_type": "stream",
     "text": [
      "spc_tbl_ [19,554 × 3] (S3: spec_tbl_df/tbl_df/tbl/data.frame)\n",
      " $ Gender   : chr [1:19554] \"Female\" \"Male\" \"Male\" \"Male\" ...\n",
      " $ SAR      : num [1:19554] 990000 1551000 1078000 649000 1121706 ...\n",
      " $ FinalRate: num [1:19554] 0.000113 0.000765 0.000181 0.00021 0.000326 ...\n",
      " - attr(*, \"spec\")=\n",
      "  .. cols(\n",
      "  ..   Gender = \u001b[31mcol_character()\u001b[39m,\n",
      "  ..   SAR = \u001b[32mcol_double()\u001b[39m,\n",
      "  ..   FinalRate = \u001b[32mcol_double()\u001b[39m\n",
      "  .. )\n",
      " - attr(*, \"problems\")=<externalptr> \n"
     ]
    }
   ],
   "source": [
    "# Résumé des données   tu  peux utiliser (glimpse(data)  # Permet de voir les types de colonnes et un aperçu rapide)\n",
    "summary(data)\n",
    "\n",
    "# Vérifier les types de données\n",
    "str(data)"
   ]
  },
  {
   "cell_type": "markdown",
   "id": "9813320e-b8a0-45ab-bc25-c015d6522f68",
   "metadata": {},
   "source": [
    "### Étape 1 : Nettoyage de base des données"
   ]
  },
  {
   "cell_type": "code",
   "execution_count": 5,
   "id": "b5e35502-400a-4e6b-9748-9f869d8404f2",
   "metadata": {},
   "outputs": [
    {
     "name": "stdout",
     "output_type": "stream",
     "text": [
      "\u001b[90m# A tibble: 1 × 3\u001b[39m\n",
      "  Gender   SAR FinalRate\n",
      "   \u001b[3m\u001b[90m<int>\u001b[39m\u001b[23m \u001b[3m\u001b[90m<int>\u001b[39m\u001b[23m     \u001b[3m\u001b[90m<int>\u001b[39m\u001b[23m\n",
      "\u001b[90m1\u001b[39m      2     3         2\n"
     ]
    }
   ],
   "source": [
    "\n",
    "\n",
    "# Vérifier les valeurs manquantes\n",
    "missing_values <- data %>%\n",
    "  summarise_all(~ sum(is.na(.)))\n",
    "\n",
    "print(missing_values)  # Affiche le nombre de valeurs manquantes par colonne\n",
    "\n"
   ]
  },
  {
   "cell_type": "code",
   "execution_count": 6,
   "id": "d28d39a1-aa18-4c77-8d36-919790965ced",
   "metadata": {},
   "outputs": [],
   "source": [
    "#ici j'ai 2 valeurs manquantes pour Gender, 3 valeurs manquantes pour SAR et 2 valeurs manquantes pour Final rate"
   ]
  },
  {
   "cell_type": "code",
   "execution_count": 7,
   "id": "99e6a45e-a11a-4ac4-b42a-7a1a76959cfe",
   "metadata": {},
   "outputs": [],
   "source": [
    "# Suppression des lignes avec des valeurs manquantes (s'il y en a peu) \n",
    "# ou imputation des valeurs manquantes (s'il y en a beaucoup)\n",
    "data_clean <- data %>%\n",
    "  drop_na()  # Suppression des lignes avec NA (peut être ajusté selon les besoins)\n"
   ]
  },
  {
   "cell_type": "markdown",
   "id": "e8b386ea-a8bb-4e09-b0bb-b9bb5f34e5d9",
   "metadata": {},
   "source": [
    "### Étape 2 : Vérification et correction des types de données"
   ]
  },
  {
   "cell_type": "code",
   "execution_count": 8,
   "id": "0ced8b56-9d30-47eb-bb8b-a1c0f2dddd7f",
   "metadata": {},
   "outputs": [
    {
     "data": {
      "text/html": [
       "<style>\n",
       ".list-inline {list-style: none; margin:0; padding: 0}\n",
       ".list-inline>li {display: inline-block}\n",
       ".list-inline>li:not(:last-child)::after {content: \"\\00b7\"; padding: 0 .5ex}\n",
       "</style>\n",
       "<ol class=list-inline><li>'Female'</li><li>'Male'</li></ol>\n"
      ],
      "text/latex": [
       "\\begin{enumerate*}\n",
       "\\item 'Female'\n",
       "\\item 'Male'\n",
       "\\end{enumerate*}\n"
      ],
      "text/markdown": [
       "1. 'Female'\n",
       "2. 'Male'\n",
       "\n",
       "\n"
      ],
      "text/plain": [
       "[1] \"Female\" \"Male\"  "
      ]
     },
     "metadata": {},
     "output_type": "display_data"
    }
   ],
   "source": [
    "# Vérifier les types de données\n",
    "#str(data_clean)\n",
    "\n",
    "# S'assurer que 'Gender' est un facteur (catégorielle)\n",
    "data_clean <- data_clean %>%\n",
    "  mutate(Gender = as.factor(Gender))\n",
    "\n",
    "# Uniformiser les valeurs de 'Gender'\n",
    "data_clean <- data_clean %>%\n",
    "  mutate(Gender = recode(Gender,\n",
    "                          \"Famale\" = \"Female\",  # Correction de \"Famale\" à \"Female\"\n",
    "                          \"Unknown\" = NA_character_))  # Remplacement de \"Unknown\" par NA\n",
    "\n",
    "# Vérifier les niveaux de la variable 'Gender'\n",
    "levels(data_clean$Gender)"
   ]
  },
  {
   "cell_type": "code",
   "execution_count": 9,
   "id": "a249da4b-fae5-4ea5-9cfd-9823e25341c5",
   "metadata": {},
   "outputs": [
    {
     "data": {
      "text/html": [
       "<style>\n",
       ".list-inline {list-style: none; margin:0; padding: 0}\n",
       ".list-inline>li {display: inline-block}\n",
       ".list-inline>li:not(:last-child)::after {content: \"\\00b7\"; padding: 0 .5ex}\n",
       "</style>\n",
       "<ol class=list-inline><li>Female</li><li>Male</li><li>&lt;NA&gt;</li></ol>\n",
       "\n",
       "<details>\n",
       "\t<summary style=display:list-item;cursor:pointer>\n",
       "\t\t<strong>Levels</strong>:\n",
       "\t</summary>\n",
       "\t<style>\n",
       "\t.list-inline {list-style: none; margin:0; padding: 0}\n",
       "\t.list-inline>li {display: inline-block}\n",
       "\t.list-inline>li:not(:last-child)::after {content: \"\\00b7\"; padding: 0 .5ex}\n",
       "\t</style>\n",
       "\t<ol class=list-inline><li>'Female'</li><li>'Male'</li></ol>\n",
       "</details>"
      ],
      "text/latex": [
       "\\begin{enumerate*}\n",
       "\\item Female\n",
       "\\item Male\n",
       "\\item <NA>\n",
       "\\end{enumerate*}\n",
       "\n",
       "\\emph{Levels}: \\begin{enumerate*}\n",
       "\\item 'Female'\n",
       "\\item 'Male'\n",
       "\\end{enumerate*}\n"
      ],
      "text/markdown": [
       "1. Female\n",
       "2. Male\n",
       "3. &lt;NA&gt;\n",
       "\n",
       "\n",
       "\n",
       "**Levels**: 1. 'Female'\n",
       "2. 'Male'\n",
       "\n",
       "\n"
      ],
      "text/plain": [
       "[1] Female Male   <NA>  \n",
       "Levels: Female Male"
      ]
     },
     "metadata": {},
     "output_type": "display_data"
    }
   ],
   "source": [
    "# Vérifier les valeurs uniques après correction\n",
    "unique(data_clean$Gender)"
   ]
  },
  {
   "cell_type": "code",
   "execution_count": 19,
   "id": "58179510-2312-4805-8c2f-94188a18ab18",
   "metadata": {},
   "outputs": [
    {
     "name": "stdout",
     "output_type": "stream",
     "text": [
      "\u001b[90m# A tibble: 19,547 × 3\u001b[39m\n",
      "   Gender      SAR FinalRate\n",
      "   \u001b[3m\u001b[90m<fct>\u001b[39m\u001b[23m     \u001b[3m\u001b[90m<dbl>\u001b[39m\u001b[23m     \u001b[3m\u001b[90m<dbl>\u001b[39m\u001b[23m\n",
      "\u001b[90m 1\u001b[39m Female  \u001b[4m9\u001b[24m\u001b[4m9\u001b[24m\u001b[4m0\u001b[24m000   0.000\u001b[4m1\u001b[24m\u001b[4m1\u001b[24m\u001b[4m3\u001b[24m\n",
      "\u001b[90m 2\u001b[39m Male   1\u001b[4m5\u001b[24m\u001b[4m5\u001b[24m\u001b[4m1\u001b[24m000   0.000\u001b[4m7\u001b[24m\u001b[4m6\u001b[24m\u001b[4m5\u001b[24m\n",
      "\u001b[90m 3\u001b[39m Male   1\u001b[4m0\u001b[24m\u001b[4m7\u001b[24m\u001b[4m8\u001b[24m000   0.000\u001b[4m1\u001b[24m\u001b[4m8\u001b[24m\u001b[4m1\u001b[24m\n",
      "\u001b[90m 4\u001b[39m Male    \u001b[4m6\u001b[24m\u001b[4m4\u001b[24m\u001b[4m9\u001b[24m000   0.000\u001b[4m2\u001b[24m\u001b[4m1\u001b[24m\u001b[4m0\u001b[24m\n",
      "\u001b[90m 5\u001b[39m Male   1\u001b[4m1\u001b[24m\u001b[4m2\u001b[24m\u001b[4m1\u001b[24m706.  0.000\u001b[4m3\u001b[24m\u001b[4m2\u001b[24m\u001b[4m6\u001b[24m\n",
      "\u001b[90m 6\u001b[39m Male   1\u001b[4m0\u001b[24m\u001b[4m3\u001b[24m\u001b[4m4\u001b[24m000   0.000\u001b[4m2\u001b[24m\u001b[4m1\u001b[24m\u001b[4m2\u001b[24m\n",
      "\u001b[90m 7\u001b[39m Female  \u001b[4m8\u001b[24m\u001b[4m1\u001b[24m\u001b[4m4\u001b[24m000   0.000\u001b[4m1\u001b[24m\u001b[4m4\u001b[24m\u001b[4m5\u001b[24m\n",
      "\u001b[90m 8\u001b[39m Male   1\u001b[4m5\u001b[24m\u001b[4m5\u001b[24m\u001b[4m1\u001b[24m000   0.000\u001b[4m4\u001b[24m\u001b[4m9\u001b[24m\u001b[4m0\u001b[24m\n",
      "\u001b[90m 9\u001b[39m Male   1\u001b[4m5\u001b[24m\u001b[4m5\u001b[24m\u001b[4m1\u001b[24m000   0.000\u001b[4m9\u001b[24m\u001b[4m4\u001b[24m\u001b[4m6\u001b[24m\n",
      "\u001b[90m10\u001b[39m Male   1\u001b[4m2\u001b[24m\u001b[4m9\u001b[24m\u001b[4m1\u001b[24m540.  0.001\u001b[4m4\u001b[24m\u001b[4m9\u001b[24m \n",
      "\u001b[90m# ℹ 19,537 more rows\u001b[39m\n"
     ]
    }
   ],
   "source": [
    "# Suppression des lignes spécifiques\n",
    "data_clean <- data_clean %>%\n",
    "  filter(!(Gender == 'Male' & SAR == 1387474 & FinalRate == '01.févr' |\n",
    "           Gender == 'Unknown' & SAR == 367400 & FinalRate == '03.mai' |\n",
    "           Gender == 'Male' & SAR == 605000 & FinalRate == 'janv.38'))\n",
    "\n",
    "# Affichage du DataFrame filtré\n",
    "print(data_clean)"
   ]
  },
  {
   "cell_type": "code",
   "execution_count": 20,
   "id": "3d179a89-2c95-49e5-9f4b-aff3620ac49d",
   "metadata": {},
   "outputs": [],
   "source": [
    "# S'assurer que 'Sum At Risk' et 'FinalRate' sont des numériques\n",
    "data_clean <- data_clean %>%\n",
    "  mutate(SAR = as.numeric(SAR),\n",
    "         FinalRate = as.numeric(FinalRate))"
   ]
  },
  {
   "cell_type": "markdown",
   "id": "09135bab-6b03-44a4-b8d5-b789a068b2ad",
   "metadata": {},
   "source": [
    "### Étape 3 : Identification et traitement des valeurs aberrantes (outliers)"
   ]
  },
  {
   "cell_type": "markdown",
   "id": "7c8e9dcc-52ba-4e6c-913b-0c7670870918",
   "metadata": {},
   "source": [
    "#### Visualization of variables "
   ]
  },
  {
   "cell_type": "code",
   "execution_count": 22,
   "id": "8e8c2a41-b455-46af-8228-0730c55c9ef2",
   "metadata": {
    "scrolled": true
   },
   "outputs": [
    {
     "data": {
      "image/png": "[encoded data removed]",
      "text/plain": [
       "plot without title"
      ]
     },
     "metadata": {
      "image/png": {
       "height": 420,
       "width": 420
      }
     },
     "output_type": "display_data"
    }
   ],
   "source": [
    "# Visualiser la distribution de 'SAR' pour détecter des outliers\n",
    "ggplot(data_clean, aes(x = SAR)) +\n",
    "  geom_histogram(binwidth = 50000, fill = \"blue\", color = \"black\") +\n",
    "  labs(title = \"Distribution of Sum At Risk\", x = \"Sum At Risk\", y = \"Count\")\n",
    "\n",
    "# Suppression ou traitement des outliers (optionnel, selon l'analyse)\n",
    "# Exemple : Filtrer les valeurs extrêmement élevées (au-delà d'un certain seuil)\n",
    "#data_clean <- data_clean %>%\n",
    "#  filter(SAR < quantile(SAR, 0.99))  # Garde 99% des valeurs les plus basses"
   ]
  },
  {
   "cell_type": "code",
   "execution_count": 23,
   "id": "13a2bd62-608b-4bd6-bdf2-bba77044dd2a",
   "metadata": {},
   "outputs": [
    {
     "name": "stderr",
     "output_type": "stream",
     "text": [
      "Warning message:\n",
      "\"\u001b[1m\u001b[22mRemoved 2 rows containing non-finite outside the scale range\n",
      "(`stat_bin()`).\"\n"
     ]
    },
    {
     "data": {
      "image/png": "[encoded data removed]",
      "text/plain": [
       "plot without title"
      ]
     },
     "metadata": {
      "image/png": {
       "height": 420,
       "width": 420
      }
     },
     "output_type": "display_data"
    }
   ],
   "source": [
    "ggplot(data, aes(x = FinalRate)) +\n",
    "  geom_histogram(binwidth = 0.001, fill = \"green\", color = \"black\") +\n",
    "  scale_x_log10() +\n",
    "  labs(title = \"Distribution of Final Rate (Log Scale)\", x = \"Final Rate (Log Scale)\", y = \"Count\")\n"
   ]
  },
  {
   "cell_type": "markdown",
   "id": "a92c7d49-f7ea-4b9c-a4dd-62fd6485997c",
   "metadata": {},
   "source": [
    "### To detect outliers for SAR column"
   ]
  },
  {
   "cell_type": "code",
   "execution_count": 24,
   "id": "a02f53fe-01fd-4ad0-9aa3-a8e0041c784a",
   "metadata": {},
   "outputs": [
    {
     "name": "stdout",
     "output_type": "stream",
     "text": [
      "\u001b[90m# A tibble: 12 × 3\u001b[39m\n",
      "   Gender     SAR FinalRate\n",
      "   \u001b[3m\u001b[90m<fct>\u001b[39m\u001b[23m    \u001b[3m\u001b[90m<dbl>\u001b[39m\u001b[23m     \u001b[3m\u001b[90m<dbl>\u001b[39m\u001b[23m\n",
      "\u001b[90m 1\u001b[39m Female 2\u001b[4m9\u001b[24m\u001b[4m7\u001b[24m\u001b[4m0\u001b[24m000   0.001\u001b[4m7\u001b[24m\u001b[4m0\u001b[24m\n",
      "\u001b[90m 2\u001b[39m Female 3\u001b[4m3\u001b[24m\u001b[4m0\u001b[24m\u001b[4m0\u001b[24m000   0.001\u001b[4m4\u001b[24m\u001b[4m4\u001b[24m\n",
      "\u001b[90m 3\u001b[39m Male   3\u001b[4m6\u001b[24m\u001b[4m3\u001b[24m\u001b[4m0\u001b[24m000   0.002\u001b[4m0\u001b[24m\u001b[4m5\u001b[24m\n",
      "\u001b[90m 4\u001b[39m Male   2\u001b[4m9\u001b[24m\u001b[4m7\u001b[24m\u001b[4m0\u001b[24m000   0.002\u001b[4m7\u001b[24m\u001b[4m5\u001b[24m\n",
      "\u001b[90m 5\u001b[39m Male   2\u001b[4m6\u001b[24m\u001b[4m4\u001b[24m\u001b[4m0\u001b[24m000   0.002\u001b[4m0\u001b[24m\u001b[4m5\u001b[24m\n",
      "\u001b[90m 6\u001b[39m Male   3\u001b[4m6\u001b[24m\u001b[4m3\u001b[24m\u001b[4m0\u001b[24m000   0.001\u001b[4m6\u001b[24m\u001b[4m6\u001b[24m\n",
      "\u001b[90m 7\u001b[39m Male   3\u001b[4m6\u001b[24m\u001b[4m3\u001b[24m\u001b[4m0\u001b[24m000   0.005\u001b[4m0\u001b[24m\u001b[4m1\u001b[24m\n",
      "\u001b[90m 8\u001b[39m Male   2\u001b[4m6\u001b[24m\u001b[4m4\u001b[24m\u001b[4m0\u001b[24m000   0.001\u001b[4m6\u001b[24m\u001b[4m6\u001b[24m\n",
      "\u001b[90m 9\u001b[39m Male   2\u001b[4m9\u001b[24m\u001b[4m7\u001b[24m\u001b[4m0\u001b[24m000   0.002\u001b[4m0\u001b[24m\u001b[4m5\u001b[24m\n",
      "\u001b[90m10\u001b[39m Male   4\u001b[4m1\u001b[24m\u001b[4m8\u001b[24m\u001b[4m0\u001b[24m000   0.002\u001b[4m2\u001b[24m\u001b[4m8\u001b[24m\n",
      "\u001b[90m11\u001b[39m Male   3\u001b[4m3\u001b[24m\u001b[4m0\u001b[24m\u001b[4m0\u001b[24m000   0.009\u001b[4m5\u001b[24m\u001b[4m0\u001b[24m\n",
      "\u001b[90m12\u001b[39m \u001b[31mNA\u001b[39m     2\u001b[4m2\u001b[24m\u001b[4m5\u001b[24m\u001b[4m6\u001b[24m000   0.003\u001b[4m0\u001b[24m\u001b[4m2\u001b[24m\n"
     ]
    }
   ],
   "source": [
    "# Détecter les outliers dans 'SAR'\n",
    "Q1_SAR <- quantile(data_clean$SAR, 0.25)\n",
    "Q3_SAR <- quantile(data_clean$SAR, 0.75)\n",
    "IQR_SAR <- IQR(data_clean$SAR) #to compute Interquartile Range  (IQR) this method is non parametric we don't care about distribution for the data, c'est robust vis a vis skewed data and lest sensitive to extreme data.\n",
    "# we don't know if values follow normal distribution\n",
    "lower_bound_SAR <- Q1_SAR - 1.5 * IQR_SAR #le premier quartile minus 1.5*l'interquartile\n",
    "upper_bound_SAR <- Q3_SAR + 1.5 * IQR_SAR #le troisieme quartile minus 1.5*l'interquartile\n",
    "\n",
    "outliers_SAR <- data_clean[data_clean$SAR < lower_bound_SAR | data_clean$SAR > upper_bound_SAR, ]\n",
    "#ici on selctionne les lignes qui sont soit au dessus de l'upper bound ou soit en dessous du lower bound\n",
    "print(outliers_SAR)"
   ]
  },
  {
   "cell_type": "markdown",
   "id": "d982d58c-b754-4b9e-9c59-b74189f3fa3d",
   "metadata": {},
   "source": [
    "### To detect outliers for Finalrate column"
   ]
  },
  {
   "cell_type": "code",
   "execution_count": 25,
   "id": "a6965135-82f5-4c72-abbc-cf01202efa8f",
   "metadata": {},
   "outputs": [
    {
     "name": "stdout",
     "output_type": "stream",
     "text": [
      "\u001b[90m# A tibble: 1,748 × 3\u001b[39m\n",
      "   Gender      SAR FinalRate\n",
      "   \u001b[3m\u001b[90m<fct>\u001b[39m\u001b[23m     \u001b[3m\u001b[90m<dbl>\u001b[39m\u001b[23m     \u001b[3m\u001b[90m<dbl>\u001b[39m\u001b[23m\n",
      "\u001b[90m 1\u001b[39m Male   1\u001b[4m2\u001b[24m\u001b[4m9\u001b[24m\u001b[4m1\u001b[24m540.   0.001\u001b[4m4\u001b[24m\u001b[4m9\u001b[24m\n",
      "\u001b[90m 2\u001b[39m Male   1\u001b[4m5\u001b[24m\u001b[4m5\u001b[24m\u001b[4m1\u001b[24m000    0.002\u001b[4m0\u001b[24m\u001b[4m5\u001b[24m\n",
      "\u001b[90m 3\u001b[39m Female 1\u001b[4m5\u001b[24m\u001b[4m4\u001b[24m\u001b[4m0\u001b[24m000    0.001\u001b[4m2\u001b[24m\u001b[4m0\u001b[24m\n",
      "\u001b[90m 4\u001b[39m Male   1\u001b[4m5\u001b[24m\u001b[4m5\u001b[24m\u001b[4m1\u001b[24m000    0.002\u001b[4m0\u001b[24m\u001b[4m5\u001b[24m\n",
      "\u001b[90m 5\u001b[39m Male   1\u001b[4m5\u001b[24m\u001b[4m5\u001b[24m\u001b[4m1\u001b[24m000    0.001\u001b[4m1\u001b[24m\u001b[4m8\u001b[24m\n",
      "\u001b[90m 6\u001b[39m Male   1\u001b[4m5\u001b[24m\u001b[4m5\u001b[24m\u001b[4m1\u001b[24m000    0.003\u001b[4m3\u001b[24m\u001b[4m1\u001b[24m\n",
      "\u001b[90m 7\u001b[39m Female 2\u001b[4m9\u001b[24m\u001b[4m7\u001b[24m\u001b[4m0\u001b[24m000    0.001\u001b[4m7\u001b[24m\u001b[4m0\u001b[24m\n",
      "\u001b[90m 8\u001b[39m Male   1\u001b[4m0\u001b[24m\u001b[4m2\u001b[24m\u001b[4m4\u001b[24m650    0.001\u001b[4m8\u001b[24m\u001b[4m5\u001b[24m\n",
      "\u001b[90m 9\u001b[39m Female 1\u001b[4m5\u001b[24m\u001b[4m5\u001b[24m\u001b[4m1\u001b[24m000    0.002\u001b[4m6\u001b[24m\u001b[4m5\u001b[24m\n",
      "\u001b[90m10\u001b[39m Male   1\u001b[4m5\u001b[24m\u001b[4m5\u001b[24m\u001b[4m1\u001b[24m000    0.001\u001b[4m1\u001b[24m\u001b[4m8\u001b[24m\n",
      "\u001b[90m# ℹ 1,738 more rows\u001b[39m\n"
     ]
    }
   ],
   "source": [
    "# Détecter les outliers dans 'FinalRate'\n",
    "Q1_FinalRate <- quantile(data_clean$FinalRate, 0.25)\n",
    "Q3_FinalRate <- quantile(data_clean$FinalRate, 0.75)\n",
    "IQR_FinalRate <- IQR(data_clean$FinalRate) #to compute Interquartile Range (IQR)\n",
    "lower_bound_FinalRate <- Q1_FinalRate - 1.5 * IQR_FinalRate #le premier quartile minus 1.5*l'interquartile\n",
    "upper_bound_FinalRate <- Q3_FinalRate + 1.5 * IQR_FinalRate #le troisieme quartile minus 1.5*l'interquartile\n",
    "\n",
    "outliers_FinalRate <- data_clean[data_clean$FinalRate < lower_bound_FinalRate | data_clean$FinalRate > upper_bound_FinalRate, ]\n",
    "print(outliers_FinalRate)"
   ]
  },
  {
   "cell_type": "markdown",
   "id": "42473a2e-ab23-4aa1-a454-11537ed71675",
   "metadata": {},
   "source": [
    "### Replace outliers in SAR/FinalRate column by MEDIAN Value"
   ]
  },
  {
   "cell_type": "code",
   "execution_count": 26,
   "id": "b64d3116-373d-4e38-99bc-ff406b18505a",
   "metadata": {},
   "outputs": [],
   "source": [
    "# Remplacer les outliers dans 'SAR' par la médiane\n",
    "median_SAR <- median(data_clean$SAR, na.rm = TRUE)\n",
    "data_clean <- data_clean %>%\n",
    "  mutate(SAR = ifelse(SAR < lower_bound_SAR | SAR > upper_bound_SAR, median_SAR, SAR))\n",
    "\n",
    "# Remplacer les outliers dans 'FinalRate' par la médiane\n",
    "median_FinalRate <- median(data_clean$FinalRate, na.rm = TRUE)\n",
    "data_clean <- data_clean %>%\n",
    "  mutate(FinalRate = ifelse(FinalRate < lower_bound_FinalRate | FinalRate > upper_bound_FinalRate, median_FinalRate, FinalRate))"
   ]
  },
  {
   "cell_type": "markdown",
   "id": "498490d2-4c71-4024-a1b3-0c1e564b9e48",
   "metadata": {},
   "source": [
    "### To visualize data we cleaned"
   ]
  },
  {
   "cell_type": "code",
   "execution_count": 29,
   "id": "4df14ea2-0177-42ee-a329-31aa6d960d18",
   "metadata": {},
   "outputs": [
    {
     "data": {
      "image/png": "[encoded data removed]",
      "text/plain": [
       "plot without title"
      ]
     },
     "metadata": {
      "image/png": {
       "height": 420,
       "width": 420
      }
     },
     "output_type": "display_data"
    },
    {
     "data": {
      "image/png": "[encoded data removed]",
      "text/plain": [
       "plot without title"
      ]
     },
     "metadata": {
      "image/png": {
       "height": 420,
       "width": 420
      }
     },
     "output_type": "display_data"
    }
   ],
   "source": [
    "# Visualiser la distribution de 'SAR' après nettoyage\n",
    "ggplot(data_clean, aes(x = SAR)) +\n",
    "  geom_histogram(binwidth = 50000, fill = \"blue\", color = \"black\") +\n",
    "  labs(title = \"Distribution of Sum At Risk after Cleaning\", x = \"Sum At Risk\", y = \"Count\")\n",
    "\n",
    "# Visualiser la distribution de 'FinalRate' après nettoyage\n",
    "ggplot(data_clean, aes(x = FinalRate)) +\n",
    "  geom_histogram(binwidth = 0.001, fill = \"green\", color = \"black\") +\n",
    "  scale_x_log10() +\n",
    "  labs(title = \"Distribution of Final Rate (Log Scale) after Cleaning\", x = \"Final Rate (Log Scale)\", y = \"Count\")"
   ]
  },
  {
   "cell_type": "code",
   "execution_count": 30,
   "id": "b0532c2a-036f-4bd0-bbe0-1b8e3f5b6599",
   "metadata": {},
   "outputs": [
    {
     "name": "stdout",
     "output_type": "stream",
     "text": [
      "Changes made to the data:\n",
      "1. Removed rows with missing values.\n",
      "2. Detected and replaced outliers in 'SAR' and 'FinalRate' using the IQR method.\n",
      "3. Replaced outliers with the median value of the respective column.\n",
      "\n",
      "Potential impact of assumptions:\n",
      "1. Removing rows with missing values may reduce the sample size but ensures data completeness.\n",
      "2. Replacing outliers with the median value helps to mitigate the impact of extreme values on the analysis.\n",
      "3. The IQR method is robust to outliers and is suitable for non-normally distributed data.\n"
     ]
    }
   ],
   "source": [
    "# Documenter les changements et les hypothèses\n",
    "cat(\"Changes made to the data:\\n\")\n",
    "cat(\"1. Removed rows with missing values.\\n\")\n",
    "cat(\"2. Detected and replaced outliers in 'SAR' and 'FinalRate' using the IQR method.\\n\")\n",
    "cat(\"3. Replaced outliers with the median value of the respective column.\\n\")\n",
    "\n",
    "cat(\"\\nPotential impact of assumptions:\\n\")\n",
    "cat(\"1. Removing rows with missing values may reduce the sample size but ensures data completeness.\\n\")\n",
    "cat(\"2. Replacing outliers with the median value helps to mitigate the impact of extreme values on the analysis.\\n\")\n",
    "cat(\"3. The IQR method is robust to outliers and is suitable for non-normally distributed data.\\n\")"
   ]
  },
  {
   "cell_type": "code",
   "execution_count": 32,
   "id": "2434d194-d52d-4574-b421-1994f6d35653",
   "metadata": {},
   "outputs": [],
   "source": [
    "# Générer un fichier CSV pour le DataFrame data_clean\n",
    "write.csv(data_clean, file = \"portfolio_data_clean_ness.csv\", row.names = FALSE)"
   ]
  }
 ],
 "metadata": {
  "kernelspec": {
   "display_name": "R",
   "language": "R",
   "name": "ir"
  },
  "language_info": {
   "codemirror_mode": "r",
   "file_extension": ".r",
   "mimetype": "text/x-r-source",
   "name": "R",
   "pygments_lexer": "r",
   "version": "4.4.1"
  }
 },
 "nbformat": 4,
 "nbformat_minor": 5
}
